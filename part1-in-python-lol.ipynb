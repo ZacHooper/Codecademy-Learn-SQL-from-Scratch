{
 "cells": [
  {
   "cell_type": "markdown",
   "metadata": {},
   "source": [
    "# Codecademy Project - Twitch Part 1: Analyze Data with SQL\n",
    "\n",
    "By: Zac Hooper\n",
    "\n",
    "Hi,\n",
    "This is my work for Codecademy's Twitch Part 1 project. \n",
    "\n",
    "\n",
    "\n",
    "Before attempting any of the questions. I am importing all of the required libraries to complete the project"
   ]
  },
  {
   "cell_type": "code",
   "execution_count": 1,
   "metadata": {},
   "outputs": [],
   "source": [
    "import pandas as pd"
   ]
  },
  {
   "cell_type": "markdown",
   "metadata": {},
   "source": [
    "### 1. Start by getting a feel for the stream table and the chat table:_\n",
    "  - _Select all columns from the first 20 rows._\n",
    "  - _What columns do the tables have?_\n",
    "  \n",
    "  First I will set both of the csv files to a variable using Pandas. \n",
    "  \n",
    "  I'm not going to select the first 20 rows as it would take up too much space :P\n",
    "  Instead i'm going to use the '.info()' call for both tables to describe the schema of the tables"
   ]
  },
  {
   "cell_type": "code",
   "execution_count": 25,
   "metadata": {},
   "outputs": [
    {
     "name": "stdout",
     "output_type": "stream",
     "text": [
      "STREAM TABLE (video_play.csv)\n",
      "<class 'pandas.core.frame.DataFrame'>\n",
      "RangeIndex: 526299 entries, 0 to 526298\n",
      "Data columns (total 9 columns):\n",
      "time             526299 non-null object\n",
      "device_id        526271 non-null object\n",
      "login            526299 non-null object\n",
      "channel          526299 non-null object\n",
      "country          509135 non-null object\n",
      "player           526299 non-null object\n",
      "game             523175 non-null object\n",
      "stream_format    267332 non-null object\n",
      "subscriber       273814 non-null object\n",
      "dtypes: object(9)\n",
      "memory usage: 36.1+ MB\n",
      "None\n",
      "\n",
      "CHAT TABLE (chat.csv)\n",
      "<class 'pandas.core.frame.DataFrame'>\n",
      "RangeIndex: 148562 entries, 0 to 148561\n",
      "Data columns (total 7 columns):\n",
      "time         148562 non-null object\n",
      "device_id    148560 non-null object\n",
      "login        148562 non-null object\n",
      "channel      148562 non-null object\n",
      "country      142641 non-null object\n",
      "player       37536 non-null object\n",
      "game         148221 non-null object\n",
      "dtypes: object(7)\n",
      "memory usage: 7.9+ MB\n",
      "None\n"
     ]
    }
   ],
   "source": [
    "stream_df = pd.read_csv('Twitch/video_play.csv')\n",
    "chat_df = pd.read_csv('Twitch/chat.csv')\n",
    "\n",
    "print(\"STREAM TABLE (video_play.csv)\")\n",
    "print(stream_df.info())\n",
    "print()\n",
    "print(\"CHAT TABLE (chat.csv)\")\n",
    "print(chat_df.info())"
   ]
  },
  {
   "cell_type": "markdown",
   "metadata": {},
   "source": [
    "### 2. What are the unique games in the stream table?"
   ]
  },
  {
   "cell_type": "code",
   "execution_count": 21,
   "metadata": {},
   "outputs": [
    {
     "name": "stdout",
     "output_type": "stream",
     "text": [
      "['League of Legends' 'DayZ' 'Dota 2' 'Heroes of the Storm'\n",
      " 'Counter-Strike: Global Offensive' 'Hearthstone: Heroes of Warcraft'\n",
      " 'The Binding of Isaac: Rebirth' 'Agar.io' 'Gaming Talk Shows' nan\n",
      " 'Rocket League' 'World of Tanks' 'ARK: Survival Evolved' 'SpeedRunners'\n",
      " 'Breaking Point' 'Duck Game' 'Devil May Cry 4: Special Edition'\n",
      " 'Block N Load' 'Fallout 3' 'Batman: Arkham Knight' 'Reign Of Kings'\n",
      " 'The Witcher 3: Wild Hunt' 'The Elder Scrolls V: Skyrim'\n",
      " 'Super Mario Bros.' 'H1Z1' 'The Last of Us' 'Depth' 'Mortal Kombat X'\n",
      " 'Senran Kagura: Estival Versus' 'The Sims 4' 'You Must Build A Boat'\n",
      " 'Choice Chamber' 'Music' 'Risk of Rain' 'Grand Theft Auto V' 'Besiege'\n",
      " 'Super Mario Bros. 3' 'Hektor' 'Bridge Constructor Medieval' 'Lucius'\n",
      " 'Blackjack' 'Cities: Skylines']\n"
     ]
    }
   ],
   "source": [
    "stream_unique_games = stream_df.game.unique()\n",
    "print(stream_unique_games)"
   ]
  },
  {
   "cell_type": "markdown",
   "metadata": {},
   "source": [
    "### 3. What are the unique channels in the stream table?"
   ]
  },
  {
   "cell_type": "code",
   "execution_count": 22,
   "metadata": {},
   "outputs": [
    {
     "name": "stdout",
     "output_type": "stream",
     "text": [
      "['frank' 'george' 'estelle' 'morty' 'kramer' 'jerry' 'helen' 'newman'\n",
      " 'elaine' 'susan']\n"
     ]
    }
   ],
   "source": [
    "stream_channel_games = stream_df.channel.unique()\n",
    "print(stream_channel_games)"
   ]
  },
  {
   "cell_type": "markdown",
   "metadata": {},
   "source": [
    "### 4. What are the most popular games in the stream table?\n",
    "  - _Create a list of games and their number of viewers using GROUP BY._\n",
    "  \n",
    "Groups the stream table by 'game' and then counts the entries on the device_id column. _(Note: renames 'device_id' to 'Count' for better readbility and sense'_\n",
    "\n",
    "There are two options of counting the number of entries. Either by doing a full count where you get the total number views or by doing a 'nunique' count to get the total number of unique individuals watching each game\n",
    "\n",
    "Currently I have the nunique uncommented as I believe that best portrays how many people actually watch each game\n",
    "\n",
    "I then display the top 10 most viewed games"
   ]
  },
  {
   "cell_type": "code",
   "execution_count": 44,
   "metadata": {
    "scrolled": true
   },
   "outputs": [
    {
     "name": "stdout",
     "output_type": "stream",
     "text": [
      "                                game  Count\n",
      "23                 League of Legends  93308\n",
      "14                            Dota 2  45925\n",
      "10  Counter-Strike: Global Offensive  37461\n",
      "22               Heroes of the Storm  20812\n",
      "11                              DayZ  17023\n",
      "17                 Gaming Talk Shows  16521\n",
      "34     The Binding of Isaac: Rebirth  15006\n",
      "1                            Agar.io   8897\n",
      "20   Hearthstone: Heroes of Warcraft   7663\n",
      "39                    World of Tanks   7077\n"
     ]
    }
   ],
   "source": [
    "games_total_viewer_count = stream_df.groupby('game').device_id.nunique().reset_index().rename(columns={'device_id':'Count'})\n",
    "#games_total_viewer_count = stream_df.groupby('game').device_id.count().reset_index().rename(columns={'device_id':'Count'})\n",
    "\n",
    "print(games_total_viewer_count.sort_values('Count', ascending=False).head(10))"
   ]
  },
  {
   "cell_type": "code",
   "execution_count": null,
   "metadata": {},
   "outputs": [],
   "source": []
  },
  {
   "cell_type": "code",
   "execution_count": null,
   "metadata": {},
   "outputs": [],
   "source": []
  }
 ],
 "metadata": {
  "kernelspec": {
   "display_name": "Python 3.8.0 64-bit",
   "language": "python",
   "name": "python38064bit6cc0fb9e67b74216b0b22011ad77c0ab"
  },
  "language_info": {
   "codemirror_mode": {
    "name": "ipython",
    "version": 3
   },
   "file_extension": ".py",
   "mimetype": "text/x-python",
   "name": "python",
   "nbconvert_exporter": "python",
   "pygments_lexer": "ipython3",
   "version": "3.8.0"
  }
 },
 "nbformat": 4,
 "nbformat_minor": 4
}
